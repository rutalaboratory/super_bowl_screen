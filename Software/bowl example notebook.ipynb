{
 "cells": [
  {
   "cell_type": "code",
   "execution_count": 2,
   "id": "a0538eb4-951c-494d-bb70-8e397dba9290",
   "metadata": {
    "tags": []
   },
   "outputs": [],
   "source": [
    "from bowl_stimulate_class import *"
   ]
  },
  {
   "cell_type": "code",
   "execution_count": null,
   "id": "735ac24c-be3c-4cfc-84e8-0ad7c87fcc72",
   "metadata": {
    "tags": []
   },
   "outputs": [
    {
     "name": "stderr",
     "output_type": "stream",
     "text": [
      "WARNING:2025-06-05 14:41:53,314:jax._src.xla_bridge:909: An NVIDIA GPU may be present on this machine, but a CUDA-enabled jaxlib is not installed. Falling back to cpu.\n"
     ]
    },
    {
     "name": "stdout",
     "output_type": "stream",
     "text": [
      "initialize Stimulation Pipeline <  Arena  >: xdim=, 720 ydim= 360 at position x= 7080 y= 2400\n"
     ]
    },
    {
     "ename": "",
     "evalue": "",
     "output_type": "error",
     "traceback": [
      "\u001b[1;31mThe Kernel crashed while executing code in the current cell or a previous cell. \n",
      "\u001b[1;31mPlease review the code in the cell(s) to identify a possible cause of the failure. \n",
      "\u001b[1;31mClick <a href='https://aka.ms/vscodeJupyterKernelCrash'>here</a> for more info. \n",
      "\u001b[1;31mView Jupyter <a href='command:jupyter.viewOutput'>log</a> for further details."
     ]
    }
   ],
   "source": [
    "#path = \"C:/Users/sprech/videofile.avi\"\n",
    "\n",
    "Arena = Stimulation_Pipeline()\n",
    "# Arena.show_dark_screen(5.0)\n",
    "#Arena.generate(LoomingDisk(Arena,center=(180,30)).run,radius=50,speed=30,distance=90,color_disc=255,color_bg=0,duration = 3)\n",
    "#Arena.generate(Arena.looming_disk,radius=50,speed=30,distance =90,center=(180,30),color_disc=255,color_bg=0,duration = 3)\n",
    "#Video = ShowVideo(Arena,path=path,framerate = 10)\n",
    "#Arena.generate(Video.run,duration = 3)\n",
    "\n",
    "#Video = ShowVideo(Arena,path=path,framerate = 60)\n",
    "#Arena.generate(Video.run,duration = 3)\n",
    "\n",
    "#Arena.generate(ShowVideo(Arena,path=path,framerate = 30).run,duration = 3,rot_offset=(0,30,15))\n",
    "#Arena.generate(ShowVerticalEdge(Arena).run,duration = 6,start = 90, speed = 30, color1 =0, color2 = 255)\n",
    "\n",
    "# Arena.generate(ShowVerticalEdge(Arena).run,duration = 4,start = 90, speed = 50, color1 =0, color2 = 255,rot_offset=(0,30,0))\n",
    "# Arena.generate(ShowVerticalEdge(Arena).run,duration = 4,start = 90, speed = 50, color1 =0, color2 = 255,rot_offset=(-45,15,0))\n",
    "# Arena.generate(ShowVerticalEdge(Arena).run,duration = 4,start = 90, speed = 50, color1 =0, color2 = 255,rot_offset=(-90,0,0))\n",
    "\n",
    "# #Arena.generate(ShowVerticalEdge(Arena).run,duration = 6,start = 90, speed = 30, color1 =0, color2 = 255,rot_offset=(90,0,0))\n",
    "# #Arena.generate(ShowNoise(Arena,pixelsize=3,framerate = 30).run,duration = 5,rot_offset=(0,0,0))\n",
    "# #Arena.generate(ShowNoise(Arena,pixelsize=2,framerate = 60).run,duration = 5,rot_offset=(0,0,0))\n",
    "\n",
    "\n",
    "\n",
    "# #Arena.generate_rotational(Arena.generate_grating_sine_vertical(amplitude=100,offset=128,spatial_freq=30),duration=5,yaw=10)\n",
    "# Arena.generate_rotational(Arena.generate_grating_vertical(color1=0,color2 =200,spatial_freq=30),duration=4,yaw=10,rot_offset=(60,10,0))\n",
    "# #Arena.generate_rotational(Arena.generate_grating_vertical(color1=0,color2 =200,spatial_freq=30),duration=2,yaw=40,rot_offset=(60,10,0))\n",
    "# #Arena.generate_rotational(Arena.generate_grating_vertical(color1=0,color2 =200,spatial_freq=30),duration=2,yaw=80,rot_offset=(60,10,0))\n",
    "# Arena.generate_rotational(Arena.generate_grating_vertical(color1=0,color2 =200,spatial_freq=30),duration=4,yaw=120,rot_offset=(60,10,0))\n",
    "\n",
    "# Arena.generate(ShowNoise(Arena,pixelsize=5,framerate = 60).run,duration = 4,rot_offset=(0,0,0))\n",
    "\n",
    "# Arena.show_dark_screen(1.0)\n",
    "\n",
    "# cv2.destroyAllWindows()\n",
    "# key = cv2.waitKey(1)"
   ]
  },
  {
   "cell_type": "code",
   "execution_count": null,
   "id": "6b376055",
   "metadata": {},
   "outputs": [
    {
     "ename": "AttributeError",
     "evalue": "module 'rawpy' has no attribute 'RawPyMemoryImage'",
     "output_type": "error",
     "traceback": [
      "\u001b[0;31m---------------------------------------------------------------------------\u001b[0m",
      "\u001b[0;31mAttributeError\u001b[0m                            Traceback (most recent call last)",
      "Cell \u001b[0;32mIn[1], line 35\u001b[0m\n\u001b[1;32m     33\u001b[0m \u001b[38;5;66;03m# Write raw Bayer data as .dng using rawpy (simulated TIFF container)\u001b[39;00m\n\u001b[1;32m     34\u001b[0m output_path \u001b[38;5;241m=\u001b[39m \u001b[38;5;124m\"\u001b[39m\u001b[38;5;124mcheckerboard.dng\u001b[39m\u001b[38;5;124m\"\u001b[39m\n\u001b[0;32m---> 35\u001b[0m rawpy_image \u001b[38;5;241m=\u001b[39m rawpy\u001b[38;5;241m.\u001b[39mRawPyMemoryImage(\n\u001b[1;32m     36\u001b[0m     raw_pattern\u001b[38;5;241m=\u001b[39mbayer\u001b[38;5;241m.\u001b[39mtobytes(),\n\u001b[1;32m     37\u001b[0m     width\u001b[38;5;241m=\u001b[39mimg_size,\n\u001b[1;32m     38\u001b[0m     height\u001b[38;5;241m=\u001b[39mimg_size,\n\u001b[1;32m     39\u001b[0m     bayer_pattern\u001b[38;5;241m=\u001b[39m\u001b[38;5;124m\"\u001b[39m\u001b[38;5;124mRGGB\u001b[39m\u001b[38;5;124m\"\u001b[39m\n\u001b[1;32m     40\u001b[0m )\n\u001b[1;32m     41\u001b[0m rawpy_image\u001b[38;5;241m.\u001b[39msave(output_path)\n\u001b[1;32m     43\u001b[0m \u001b[38;5;28mprint\u001b[39m(\u001b[38;5;124mf\u001b[39m\u001b[38;5;124m\"\u001b[39m\u001b[38;5;124mSaved DNG-like image to \u001b[39m\u001b[38;5;132;01m{\u001b[39;00moutput_path\u001b[38;5;132;01m}\u001b[39;00m\u001b[38;5;124m\"\u001b[39m)\n",
      "\u001b[0;31mAttributeError\u001b[0m: module 'rawpy' has no attribute 'RawPyMemoryImage'"
     ]
    }
   ],
   "source": [
    "import numpy as np\n",
    "import imageio.v3 as iio\n",
    "import tifffile\n",
    "\n",
    "# Parameters\n",
    "checker_size = 32       # Size of each square in pixels\n",
    "num_squares = 16        # Number of squares along one dimension\n",
    "img_size = checker_size * num_squares\n",
    "\n",
    "# Generate checkerboard (0 and 65535 grayscale)\n",
    "checker = np.indices((num_squares, num_squares)).sum(axis=0) % 2\n",
    "checker = np.kron(checker, np.ones((checker_size, checker_size))) * 65535\n",
    "checker = checker.astype(np.uint16)\n",
    "\n",
    "# Simulate Bayer RGGB (just duplicate grayscale for realism)\n",
    "# You can insert a more realistic Bayer simulation here if needed\n",
    "\n",
    "# Save as 16-bit monochrome TIFF\n",
    "output_path = \"checkerboard_bayer.tiff\"\n",
    "tifffile.imwrite(output_path, checker, dtype=np.uint16)\n",
    "\n",
    "print(f\"Saved Bayer-like 16-bit TIFF to {output_path}\")\n"
   ]
  },
  {
   "cell_type": "code",
   "execution_count": null,
   "id": "00242c22",
   "metadata": {},
   "outputs": [],
   "source": []
  }
 ],
 "metadata": {
  "kernelspec": {
   "display_name": "borstbowl",
   "language": "python",
   "name": "python3"
  },
  "language_info": {
   "codemirror_mode": {
    "name": "ipython",
    "version": 3
   },
   "file_extension": ".py",
   "mimetype": "text/x-python",
   "name": "python",
   "nbconvert_exporter": "python",
   "pygments_lexer": "ipython3",
   "version": "3.11.11"
  }
 },
 "nbformat": 4,
 "nbformat_minor": 5
}
