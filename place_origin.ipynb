{
 "cells": [
  {
   "cell_type": "code",
   "execution_count": null,
   "metadata": {},
   "outputs": [],
   "source": [
    "import cv2\n",
    "import numpy as np\n",
    "\n",
    "def draw_origin(image, origin, size):\n",
    "    x, y = origin\n",
    "    length = size\n",
    "\n",
    "    # Draw axes: X (red), Y (green), Z (blue)\n",
    "    x_axis = (int(x + length), y)\n",
    "    y_axis = (int(x + length * 0.7), int(y + length * 0.7))\n",
    "    z_axis = (x, int(y - length))\n",
    "\n",
    "    image = cv2.arrowedLine(image, (x, y), x_axis, (0, 0, 255), 2, tipLength=0.2)\n",
    "    image = cv2.arrowedLine(image, (x, y), y_axis, (0, 255, 0), 2, tipLength=0.2)\n",
    "    image = cv2.arrowedLine(image, (x, y), z_axis, (255, 0, 0), 2, tipLength=0.2)\n",
    "\n",
    "    return image\n",
    "\n",
    "def main():\n",
    "    image_path = '/home/murtaza/Downloads/IMG_3665.jpg'  # Replace with your image path\n",
    "    image = cv2.imread(image_path)\n",
    "\n",
    "    if image is None:\n",
    "        print(\"Failed to load image.\")\n",
    "        return\n",
    "\n",
    "    origin = (100, 200)  # Change this as needed\n",
    "    size = 50            # Change this as needed\n",
    "\n",
    "    image_with_origin = draw_origin(image.copy(), origin, size)\n",
    "\n",
    "    cv2.imshow('Image with Origin', image_with_origin)\n",
    "    key = cv2.waitKey(0)\n",
    "    if key == ord('s'):\n",
    "        cv2.imwrite('image_with_origin.jpg', image_with_origin)\n",
    "        print('Saved as image_with_origin.jpg')\n",
    "    cv2.destroyAllWindows()\n",
    "\n",
    "if __name__ == '__main__':\n",
    "    main()"
   ]
  }
 ],
 "metadata": {
  "kernelspec": {
   "display_name": "borstbowl",
   "language": "python",
   "name": "python3"
  },
  "language_info": {
   "codemirror_mode": {
    "name": "ipython",
    "version": 3
   },
   "file_extension": ".py",
   "mimetype": "text/x-python",
   "name": "python",
   "nbconvert_exporter": "python",
   "pygments_lexer": "ipython3",
   "version": "3.11.11"
  }
 },
 "nbformat": 4,
 "nbformat_minor": 2
}
